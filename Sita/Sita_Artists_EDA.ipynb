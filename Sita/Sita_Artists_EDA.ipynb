{
 "cells": [
  {
   "cell_type": "code",
   "execution_count": 1,
   "metadata": {},
   "outputs": [],
   "source": [
    "import numpy as np\n",
    "\n",
    "import pandas as pd\n",
    "pd.options.display.max_rows = None\n",
    "pd.options.display.max_columns = None"
   ]
  },
  {
   "cell_type": "code",
   "execution_count": 2,
   "metadata": {},
   "outputs": [
    {
     "data": {
      "text/plain": [
       "(6820, 12)"
      ]
     },
     "execution_count": 2,
     "metadata": {},
     "output_type": "execute_result"
    }
   ],
   "source": [
    "df = pd.read_csv('../artists.csv', index_col='artFinderId')\n",
    "df.shape"
   ]
  },
  {
   "cell_type": "code",
   "execution_count": 3,
   "metadata": {},
   "outputs": [
    {
     "data": {
      "text/plain": [
       "0"
      ]
     },
     "execution_count": 3,
     "metadata": {},
     "output_type": "execute_result"
    }
   ],
   "source": [
    "df.isna().any().sum()"
   ]
  },
  {
   "cell_type": "code",
   "execution_count": 4,
   "metadata": {},
   "outputs": [
    {
     "data": {
      "text/plain": [
       "84"
      ]
     },
     "execution_count": 4,
     "metadata": {},
     "output_type": "execute_result"
    }
   ],
   "source": [
    "len(df.loc[df.duplicated()])"
   ]
  },
  {
   "cell_type": "code",
   "execution_count": 5,
   "metadata": {},
   "outputs": [
    {
     "data": {
      "text/plain": [
       "6736"
      ]
     },
     "execution_count": 5,
     "metadata": {},
     "output_type": "execute_result"
    }
   ],
   "source": [
    "# remove duplicates\n",
    "df = df.loc[~df.duplicated()]\n",
    "len(df)"
   ]
  },
  {
   "cell_type": "code",
   "execution_count": 6,
   "metadata": {},
   "outputs": [
    {
     "data": {
      "text/plain": [
       "accepts_commissions             bool\n",
       "artistName                    object\n",
       "artist_rating                  int64\n",
       "country                       object\n",
       "follows                        int64\n",
       "is_artist                       bool\n",
       "is_artist_of_the_day_today      bool\n",
       "is_represented_by_gallery       bool\n",
       "products_count                 int64\n",
       "profession                    object\n",
       "seller_rating                 object\n",
       "slug                          object\n",
       "dtype: object"
      ]
     },
     "execution_count": 6,
     "metadata": {},
     "output_type": "execute_result"
    }
   ],
   "source": [
    "df.dtypes"
   ]
  },
  {
   "cell_type": "code",
   "execution_count": 7,
   "metadata": {},
   "outputs": [],
   "source": [
    "# Dropped cols are all True and False respectively\n",
    "df = df.drop(['is_artist', 'is_artist_of_the_day_today'], 1)\n",
    "\n",
    "df.columns = ['commissions', 'name', 'artist_rating', 'country',\n",
    "                   'follows', 'representation', 'num_prods',\n",
    "                   'profession', 'seller_rating', 'slug']"
   ]
  },
  {
   "cell_type": "code",
   "execution_count": 8,
   "metadata": {
    "scrolled": true
   },
   "outputs": [],
   "source": [
    "# this col imports as all strings - some values are Null\n",
    "# change seller_rating 'n' value to '0' and change dtype of col to int64\n",
    "df.seller_rating = df.seller_rating.replace('n', '0').astype('int64')"
   ]
  },
  {
   "cell_type": "code",
   "execution_count": 9,
   "metadata": {},
   "outputs": [
    {
     "data": {
      "text/plain": [
       "commissions         bool\n",
       "name              object\n",
       "artist_rating      int64\n",
       "country           object\n",
       "follows            int64\n",
       "representation      bool\n",
       "num_prods          int64\n",
       "profession        object\n",
       "seller_rating      int64\n",
       "slug              object\n",
       "dtype: object"
      ]
     },
     "execution_count": 9,
     "metadata": {},
     "output_type": "execute_result"
    }
   ],
   "source": [
    "df.dtypes"
   ]
  },
  {
   "cell_type": "code",
   "execution_count": 10,
   "metadata": {},
   "outputs": [
    {
     "data": {
      "text/html": [
       "<div>\n",
       "<style scoped>\n",
       "    .dataframe tbody tr th:only-of-type {\n",
       "        vertical-align: middle;\n",
       "    }\n",
       "\n",
       "    .dataframe tbody tr th {\n",
       "        vertical-align: top;\n",
       "    }\n",
       "\n",
       "    .dataframe thead th {\n",
       "        text-align: right;\n",
       "    }\n",
       "</style>\n",
       "<table border=\"1\" class=\"dataframe\">\n",
       "  <thead>\n",
       "    <tr style=\"text-align: right;\">\n",
       "      <th></th>\n",
       "      <th>artist_rating</th>\n",
       "      <th>follows</th>\n",
       "      <th>num_prods</th>\n",
       "      <th>seller_rating</th>\n",
       "    </tr>\n",
       "  </thead>\n",
       "  <tbody>\n",
       "    <tr>\n",
       "      <th>count</th>\n",
       "      <td>6736.000000</td>\n",
       "      <td>6736.000000</td>\n",
       "      <td>6736.000000</td>\n",
       "      <td>6736.000000</td>\n",
       "    </tr>\n",
       "    <tr>\n",
       "      <th>mean</th>\n",
       "      <td>0.643112</td>\n",
       "      <td>299.111787</td>\n",
       "      <td>73.194329</td>\n",
       "      <td>2.388510</td>\n",
       "    </tr>\n",
       "    <tr>\n",
       "      <th>std</th>\n",
       "      <td>0.857652</td>\n",
       "      <td>453.173626</td>\n",
       "      <td>194.346669</td>\n",
       "      <td>2.420166</td>\n",
       "    </tr>\n",
       "    <tr>\n",
       "      <th>min</th>\n",
       "      <td>0.000000</td>\n",
       "      <td>0.000000</td>\n",
       "      <td>3.000000</td>\n",
       "      <td>0.000000</td>\n",
       "    </tr>\n",
       "    <tr>\n",
       "      <th>25%</th>\n",
       "      <td>0.000000</td>\n",
       "      <td>62.000000</td>\n",
       "      <td>10.000000</td>\n",
       "      <td>0.000000</td>\n",
       "    </tr>\n",
       "    <tr>\n",
       "      <th>50%</th>\n",
       "      <td>0.000000</td>\n",
       "      <td>152.000000</td>\n",
       "      <td>25.000000</td>\n",
       "      <td>0.000000</td>\n",
       "    </tr>\n",
       "    <tr>\n",
       "      <th>75%</th>\n",
       "      <td>2.000000</td>\n",
       "      <td>331.000000</td>\n",
       "      <td>68.000000</td>\n",
       "      <td>5.000000</td>\n",
       "    </tr>\n",
       "    <tr>\n",
       "      <th>max</th>\n",
       "      <td>2.000000</td>\n",
       "      <td>7889.000000</td>\n",
       "      <td>7996.000000</td>\n",
       "      <td>5.000000</td>\n",
       "    </tr>\n",
       "  </tbody>\n",
       "</table>\n",
       "</div>"
      ],
      "text/plain": [
       "       artist_rating      follows    num_prods  seller_rating\n",
       "count    6736.000000  6736.000000  6736.000000    6736.000000\n",
       "mean        0.643112   299.111787    73.194329       2.388510\n",
       "std         0.857652   453.173626   194.346669       2.420166\n",
       "min         0.000000     0.000000     3.000000       0.000000\n",
       "25%         0.000000    62.000000    10.000000       0.000000\n",
       "50%         0.000000   152.000000    25.000000       0.000000\n",
       "75%         2.000000   331.000000    68.000000       5.000000\n",
       "max         2.000000  7889.000000  7996.000000       5.000000"
      ]
     },
     "execution_count": 10,
     "metadata": {},
     "output_type": "execute_result"
    }
   ],
   "source": [
    "df.describe()\n",
    "# What is Artist Rating? Some internal designation?\n",
    "# It ranges from 0-2 so it's not the number of stars on a profile,\n",
    "# which is presumably Seller Rating."
   ]
  },
  {
   "cell_type": "code",
   "execution_count": 11,
   "metadata": {
    "scrolled": true
   },
   "outputs": [
    {
     "name": "stdout",
     "output_type": "stream",
     "text": [
      "True     6240\n",
      "False     496\n",
      "Name: commissions, dtype: int64 \n",
      "\n",
      "United Kingdom            2225\n",
      "United States             1025\n",
      "France                     474\n",
      "Russia                     325\n",
      "Ukraine                    289\n",
      "Italy                      219\n",
      "Germany                    215\n",
      "Spain                      151\n",
      "Canada                     135\n",
      "Netherlands                120\n",
      "Bulgaria                   119\n",
      "Australia                  108\n",
      "Poland                      97\n",
      "Lithuania                   95\n",
      "Serbia                      73\n",
      "India                       65\n",
      "Romania                     57\n",
      "Armenia                     52\n",
      "Ireland                     51\n",
      "Czech Republic              47\n",
      "Belgium                     45\n",
      "Slovakia                    41\n",
      "Belarus                     40\n",
      "Greece                      39\n",
      "Israel                      32\n",
      "Portugal                    29\n",
      "Hungary                     27\n",
      "Sweden                      26\n",
      "Mexico                      25\n",
      "Slovenia                    23\n",
      "Croatia                     23\n",
      "Austria                     23\n",
      "Switzerland                 22\n",
      "South Africa                19\n",
      "Turkey                      18\n",
      "Thailand                    17\n",
      "China                       17\n",
      "Latvia                      16\n",
      "Moldova                     16\n",
      "South Korea                 16\n",
      "Denmark                     15\n",
      "Singapore                   14\n",
      "Argentina                   14\n",
      "Japan                       14\n",
      "Cyprus                      14\n",
      "New Zealand                 13\n",
      "Norway                      13\n",
      "Estonia                     12\n",
      "Brazil                      11\n",
      "United Arab Emirates        10\n",
      "Georgia                     10\n",
      "Hong Kong                    9\n",
      "Finland                      9\n",
      "Chile                        9\n",
      "Colombia                     8\n",
      "Bosnia and Herzegovina       8\n",
      "Indonesia                    8\n",
      "Philippines                  8\n",
      "Malaysia                     7\n",
      "Vietnam                      5\n",
      "Malta                        5\n",
      "Turkmenistan                 5\n",
      "Egypt                        5\n",
      "Luxembourg                   4\n",
      "North Macedonia              3\n",
      "Costa Rica                   3\n",
      "Jordan                       3\n",
      "Ecuador                      3\n",
      "Montenegro                   2\n",
      "Iceland                      2\n",
      "Iran                         2\n",
      "Albania                      2\n",
      "Tunisia                      2\n",
      "Venezuela                    2\n",
      "Uruguay                      2\n",
      "Peru                         2\n",
      "Taiwan                       2\n",
      "Qatar                        2\n",
      "Kazakhstan                   2\n",
      "Saudi Arabia                 1\n",
      "Zambia                       1\n",
      "Réunion                      1\n",
      "Morocco                      1\n",
      "Puerto Rico                  1\n",
      "Guatemala                    1\n",
      "Lebanon                      1\n",
      "Panama                       1\n",
      "Dominican Republic           1\n",
      "Azerbaijan                   1\n",
      "Guernsey                     1\n",
      "Zimbabwe                     1\n",
      "Isle of Man                  1\n",
      "Jersey                       1\n",
      "Norfolk Island               1\n",
      "Barbados                     1\n",
      "Name: country, dtype: int64 \n",
      "\n",
      "False    6078\n",
      "True      658\n",
      "Name: representation, dtype: int64 \n",
      "\n",
      "Painter           4958\n",
      "Artist             624\n",
      "Photographer       397\n",
      "Printmaker         287\n",
      "Sculptor           264\n",
      "Digital artist     129\n",
      "Collage artist      77\n",
      "Name: profession, dtype: int64 \n",
      "\n"
     ]
    }
   ],
   "source": [
    "cat_cols = df.select_dtypes(exclude=np.number)\n",
    "\n",
    "for col in cat_cols[['commissions', 'country',\n",
    "                     'representation', 'profession']]:\n",
    "    print(cat_cols[col].value_counts(dropna=False), '\\n')"
   ]
  },
  {
   "cell_type": "code",
   "execution_count": 25,
   "metadata": {},
   "outputs": [
    {
     "data": {
      "text/plain": [
       "10.825929582099375"
      ]
     },
     "execution_count": 25,
     "metadata": {},
     "output_type": "execute_result"
    }
   ],
   "source": [
    "# 8% of artists do NOT accept commissions\n",
    "(df.commissions.value_counts().values[1] /\n",
    "    df.commissions.value_counts().values[0]) * 100\n",
    "\n",
    "# 11% of artists have gallery representation\n",
    "(df.representation.value_counts().values[1] /\n",
    "    df.representation.value_counts().values[0]) * 100"
   ]
  },
  {
   "cell_type": "code",
   "execution_count": null,
   "metadata": {},
   "outputs": [],
   "source": []
  }
 ],
 "metadata": {
  "kernelspec": {
   "display_name": "Python 3",
   "language": "python",
   "name": "python3"
  },
  "language_info": {
   "codemirror_mode": {
    "name": "ipython",
    "version": 3
   },
   "file_extension": ".py",
   "mimetype": "text/x-python",
   "name": "python",
   "nbconvert_exporter": "python",
   "pygments_lexer": "ipython3",
   "version": "3.7.6"
  },
  "toc": {
   "base_numbering": 1,
   "nav_menu": {},
   "number_sections": true,
   "sideBar": true,
   "skip_h1_title": true,
   "title_cell": "Table of Contents",
   "title_sidebar": "Contents",
   "toc_cell": false,
   "toc_position": {
    "height": "calc(100% - 180px)",
    "left": "10px",
    "top": "150px",
    "width": "165px"
   },
   "toc_section_display": true,
   "toc_window_display": true
  }
 },
 "nbformat": 4,
 "nbformat_minor": 4
}
